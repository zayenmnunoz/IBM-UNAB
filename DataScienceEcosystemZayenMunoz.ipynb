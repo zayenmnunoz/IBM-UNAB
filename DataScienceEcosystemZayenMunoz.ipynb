{
  "cells": [
    {
      "cell_type": "markdown",
      "id": "c0a409f2",
      "metadata": {
        "id": "c0a409f2"
      },
      "source": [
        "# Data Science Tools and Ecosystem"
      ]
    },
    {
      "cell_type": "markdown",
      "id": "b5f92083",
      "metadata": {
        "id": "b5f92083"
      },
      "source": [
        "In this notebook, Data Science Tools and Ecosystem are summarized. Through various exercises, we will explore key data science languages, libraries, tools, and simple arithmetic operations using Python."
      ]
    },
    {
      "cell_type": "markdown",
      "id": "79cf9e62",
      "metadata": {
        "id": "79cf9e62"
      },
      "source": [
        "**Note**: The Excercise 1 is the creation of this Jupyter Notebook, Excercise 2 consist in making the Title and Excercise 3 is the previous introduction to this Jupyter Notebook."
      ]
    },
    {
      "cell_type": "markdown",
      "id": "8f3ab2e0",
      "metadata": {
        "id": "8f3ab2e0"
      },
      "source": [
        "## Exercise 4 - Create a markdown cell to list data science languages\n",
        "\n",
        "\n",
        "Some of the popular languages that Data Scientists use are:\n",
        "\n",
        "1. Python\n",
        "2. R\n",
        "3. SQL\n",
        "4. Julia\n",
        "5. Java"
      ]
    },
    {
      "cell_type": "markdown",
      "id": "55d2d363",
      "metadata": {
        "id": "55d2d363"
      },
      "source": [
        "## Exercise 5 - Create a markdown cell to list data science libraries\n",
        "Some of the commonly used libraries used by Data Scientists include:\n",
        "\n",
        "1. Pandas\n",
        "2. NumPy\n",
        "3. Matplotlib\n",
        "4. Scikit-learn\n",
        "5. TensorFlow\n"
      ]
    },
    {
      "cell_type": "markdown",
      "id": "199f23a8",
      "metadata": {
        "id": "199f23a8"
      },
      "source": [
        "## Exercise 6 - Create a markdown cell with a table of Data Science tools\n",
        "\n",
        "| **Data Science Tools**     |\n",
        "|----------------------------|\n",
        "| Jupyter Notebook            |\n",
        "| RStudio                     |\n",
        "| Apache Zeppelin             |\n"
      ]
    },
    {
      "cell_type": "markdown",
      "id": "aa5669af",
      "metadata": {
        "id": "aa5669af"
      },
      "source": [
        "## Exercise 7 - Create a markdown cell introducing arithmetic expression examples\n",
        "\n",
        "Below are a few examples of evaluating arithmetic expressions in Python.\n",
        "\n",
        "1. **Addition:** `5 + 3 = 8`\n",
        "   \n",
        "2. **Subtraction:** `10 - 4 = 6`\n",
        "   \n",
        "3. **Multiplication:** `3 * 7 = 21`\n",
        "   \n",
        "4. **Division:** `16 / 2 = 8`\n",
        "   \n",
        "5. **Exponentiation:** `2 ** 3 = 8`\n",
        "\n",
        "6. **Parentheses and mixed operations:** `(3 * 4) + 5 = 17`\n",
        "\n",
        "7. **Mixed operations with exponents and division:**  \n",
        "   `2 ** 3 / 4 + 5 = 7.0`\n",
        "\n",
        "8. **Parentheses with nested operations:**  \n",
        "   `(5 + (3 * 4)) - 2 = 15`\n",
        "\n",
        "9. **Exponentiation and square roots:**  \n",
        "   `16 ** (1/2) = 4.0` (Square root of 16)\n",
        "\n",
        "10. **Compound expression with multiple operations:**  \n",
        "   `(3 * 4) + (5 ** 2) - (18 / 3) = 31.0`"
      ]
    },
    {
      "cell_type": "markdown",
      "id": "8321bd7a",
      "metadata": {
        "id": "8321bd7a"
      },
      "source": [
        "## Exercise 8 - Create a code cell to multiply and add numbers"
      ]
    },
    {
      "cell_type": "code",
      "execution_count": null,
      "id": "07df80f5",
      "metadata": {
        "id": "07df80f5",
        "outputId": "906cf226-c889-4faf-91a0-072a44c4d029"
      },
      "outputs": [
        {
          "data": {
            "text/plain": [
              "17"
            ]
          },
          "execution_count": 1,
          "metadata": {},
          "output_type": "execute_result"
        }
      ],
      "source": [
        "# This is a simple arithmetic expression to multiply then add integers\n",
        "(3 * 4) + 5"
      ]
    },
    {
      "cell_type": "markdown",
      "id": "ce63ff36",
      "metadata": {
        "id": "ce63ff36"
      },
      "source": [
        "## Exercise 9 - Create a code cell to convert minutes to hours\n"
      ]
    },
    {
      "cell_type": "code",
      "execution_count": null,
      "id": "a8d8c04d",
      "metadata": {
        "id": "a8d8c04d",
        "outputId": "432f89ba-3c84-4348-8a2e-d2136e874b46"
      },
      "outputs": [
        {
          "data": {
            "text/plain": [
              "3.3333333333333335"
            ]
          },
          "execution_count": 3,
          "metadata": {},
          "output_type": "execute_result"
        }
      ],
      "source": [
        "# This will convert 200 minutes to hours by dividing by 60\n",
        "200 / 60"
      ]
    },
    {
      "cell_type": "markdown",
      "id": "5eae6bfe",
      "metadata": {
        "id": "5eae6bfe"
      },
      "source": [
        "## Exercise 10 - Insert a markdown cell to list Objectives"
      ]
    },
    {
      "cell_type": "markdown",
      "id": "3b0d8dfc",
      "metadata": {
        "id": "3b0d8dfc"
      },
      "source": [
        "**Objectives:**\n",
        "\n",
        "- List popular languages for Data Science\n",
        "- Identify commonly used Data Science libraries\n",
        "- Explore different open-source Data Science tools\n",
        "- Perform basic arithmetic operations in Python\n",
        "- Understand the process of converting units in Python (e.g., minutes to hours)"
      ]
    },
    {
      "cell_type": "markdown",
      "id": "4d0a23c2",
      "metadata": {
        "id": "4d0a23c2"
      },
      "source": [
        "## Exercise 11 - Create a markdown cell to indicate the Author's name"
      ]
    },
    {
      "cell_type": "markdown",
      "source": [
        "Author's name is:"
      ],
      "metadata": {
        "id": "XwwCyh9bFMJe"
      },
      "id": "XwwCyh9bFMJe"
    },
    {
      "cell_type": "markdown",
      "id": "f8f15536",
      "metadata": {
        "id": "f8f15536"
      },
      "source": [
        "\n",
        "***Zayen Alejandra Muñoz Celis***"
      ]
    },
    {
      "cell_type": "code",
      "execution_count": null,
      "id": "8cdb14b0",
      "metadata": {
        "id": "8cdb14b0"
      },
      "outputs": [],
      "source": []
    }
  ],
  "metadata": {
    "kernelspec": {
      "display_name": "Python 3 (ipykernel)",
      "language": "python",
      "name": "python3"
    },
    "language_info": {
      "codemirror_mode": {
        "name": "ipython",
        "version": 3
      },
      "file_extension": ".py",
      "mimetype": "text/x-python",
      "name": "python",
      "nbconvert_exporter": "python",
      "pygments_lexer": "ipython3",
      "version": "3.11.5"
    },
    "colab": {
      "provenance": []
    }
  },
  "nbformat": 4,
  "nbformat_minor": 5
}